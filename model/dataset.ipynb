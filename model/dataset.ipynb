{
 "cells": [
  {
   "cell_type": "markdown",
   "source": [
    "# Dataset"
   ],
   "metadata": {
    "collapsed": false
   },
   "id": "34c2e02db4f6e05a"
  },
  {
   "cell_type": "markdown",
   "source": [
    "## Load imports"
   ],
   "metadata": {
    "collapsed": false
   },
   "id": "fedb1fb496f4a52a"
  },
  {
   "cell_type": "code",
   "execution_count": 1,
   "outputs": [],
   "source": [
    "import cv2\n",
    "import numpy as np\n",
    "import os\n",
    "import mediapipe as mp"
   ],
   "metadata": {
    "collapsed": false,
    "ExecuteTime": {
     "end_time": "2024-03-13T01:02:09.462416100Z",
     "start_time": "2024-03-13T01:02:06.810131900Z"
    }
   },
   "id": "2d0c8b48a31dca58"
  },
  {
   "cell_type": "markdown",
   "source": [
    "## Load file paths"
   ],
   "metadata": {
    "collapsed": false
   },
   "id": "b24459ff648de60b"
  },
  {
   "cell_type": "code",
   "execution_count": 2,
   "outputs": [],
   "source": [
    "dataset_open = 'landmark_data/gesture_open'\n",
    "dataset_close = 'landmark_data/gesture_close'"
   ],
   "metadata": {
    "collapsed": false,
    "ExecuteTime": {
     "end_time": "2024-03-13T01:02:10.583410900Z",
     "start_time": "2024-03-13T01:02:10.575912600Z"
    }
   },
   "id": "40b9a85bb10d70bb"
  },
  {
   "cell_type": "markdown",
   "source": [
    "## Extract function"
   ],
   "metadata": {
    "collapsed": false
   },
   "id": "f21f89361ee70cba"
  },
  {
   "cell_type": "code",
   "execution_count": 3,
   "outputs": [],
   "source": [
    "def extract_landmarks_second(image, hand):\n",
    "    image_rgb = cv2.cvtColor(image, cv2.COLOR_BGR2RGB)\n",
    "\n",
    "    result = hand.process(image_rgb)\n",
    "\n",
    "    landmarks = []\n",
    "\n",
    "    if result.multi_hand_landmarks:\n",
    "        for hand_landmarks in result.multi_hand_landmarks:\n",
    "            for lm in hand_landmarks.landmark:\n",
    "                h, w, _ = image.shape\n",
    "                cx, cy = int(lm.x * w), int(lm.y * h)\n",
    "                landmarks.extend([cx, cy])\n",
    "    landmarks = np.array(landmarks)\n",
    "    if len(landmarks) < 42:\n",
    "        landmarks = np.pad(landmarks, (0, 42 - len(landmarks)), 'constant')\n",
    "    elif len(landmarks) > 42:\n",
    "        landmarks = landmarks[:42]\n",
    "    return landmarks"
   ],
   "metadata": {
    "collapsed": false,
    "ExecuteTime": {
     "end_time": "2024-03-13T01:02:11.908832300Z",
     "start_time": "2024-03-13T01:02:11.888813200Z"
    }
   },
   "id": "f88380ea77a1a5e8"
  },
  {
   "cell_type": "markdown",
   "source": [
    "## Extract landmarks"
   ],
   "metadata": {
    "collapsed": false
   },
   "id": "b12c1c6b755aa7f5"
  },
  {
   "cell_type": "code",
   "execution_count": 4,
   "outputs": [],
   "source": [
    "open_images = []\n",
    "close_images = []\n",
    "\n",
    "landmarks = []\n",
    "labels = []\n",
    "\n",
    "mp_hands = mp.solutions.hands\n",
    "hand = mp_hands.Hands()\n",
    "for image in os.listdir(dataset_open):\n",
    "    image_path = os.path.join(dataset_open, image)\n",
    "    img = cv2.imread(image_path)\n",
    "    landmark = extract_landmarks_second(img, hand)\n",
    "    landmarks.append(landmark.tolist())\n",
    "    labels.append(\"OPEN\")\n",
    "        \n",
    "for image in os.listdir(dataset_close):\n",
    "    image_path = os.path.join(dataset_close, image)\n",
    "    img = cv2.imread(image_path)\n",
    "    landmark = extract_landmarks_second(img, hand)\n",
    "    landmarks.append(landmark.tolist())\n",
    "    labels.append(\"CLOSE\")"
   ],
   "metadata": {
    "collapsed": false,
    "ExecuteTime": {
     "end_time": "2024-03-13T01:03:04.644391600Z",
     "start_time": "2024-03-13T01:02:15.037046200Z"
    }
   },
   "id": "635adf51e6e13752"
  },
  {
   "cell_type": "markdown",
   "source": [
    "## Convert to numpy array"
   ],
   "metadata": {
    "collapsed": false
   },
   "id": "58591004f602f9f9"
  },
  {
   "cell_type": "code",
   "execution_count": 5,
   "outputs": [],
   "source": [
    "landmarks = np.array(landmarks)\n",
    "labels = np.array(labels)"
   ],
   "metadata": {
    "collapsed": false,
    "ExecuteTime": {
     "end_time": "2024-03-13T01:03:04.660923900Z",
     "start_time": "2024-03-13T01:03:04.645341Z"
    }
   },
   "id": "465caf1fd52a4020"
  },
  {
   "cell_type": "markdown",
   "source": [
    "## Testing"
   ],
   "metadata": {
    "collapsed": false
   },
   "id": "44a15621adaeb619"
  },
  {
   "cell_type": "code",
   "execution_count": 8,
   "outputs": [
    {
     "name": "stdout",
     "output_type": "stream",
     "text": [
      "Shape of landmarks: (1076, 42)\n",
      "Shape of labels: (1076,)\n"
     ]
    }
   ],
   "source": [
    "print(\"Shape of landmarks:\", landmarks.shape)\n",
    "print(\"Shape of labels:\", labels.shape)"
   ],
   "metadata": {
    "collapsed": false,
    "ExecuteTime": {
     "end_time": "2024-03-13T01:04:16.804139500Z",
     "start_time": "2024-03-13T01:04:16.792736800Z"
    }
   },
   "id": "cf5c9be69d8a841a"
  },
  {
   "cell_type": "code",
   "execution_count": 9,
   "outputs": [
    {
     "name": "stdout",
     "output_type": "stream",
     "text": [
      "First 5 rows of dataset X:\n",
      "[[632. 509. 670. 488. 699. 454. 724. 418. 755. 393. 684. 373. 695. 321.\n",
      "  694. 285. 693. 255. 656. 368. 659. 311. 656. 273. 653. 239. 629. 375.\n",
      "  624. 323. 618. 290. 614. 261. 603. 393. 581. 356. 566. 331. 555. 306.]\n",
      " [634. 511. 669. 488. 698. 452. 723. 417. 753. 394. 684. 371. 694. 319.\n",
      "  695. 283. 694. 252. 656. 366. 659. 309. 654. 272. 649. 240. 630. 374.\n",
      "  624. 324. 618. 290. 613. 262. 602. 392. 581. 357. 567. 332. 557. 307.]\n",
      " [672. 521. 718. 488. 746. 437. 767. 398. 795. 374. 692. 371. 695. 319.\n",
      "  697. 285. 697. 255. 658. 372. 650. 315. 645. 278. 640. 246. 628. 386.\n",
      "  612. 334. 604. 301. 599. 271. 602. 412. 577. 376. 562. 352. 552. 327.]\n",
      " [567. 384. 630. 344. 671. 282. 701. 227. 729. 187. 613. 206. 626. 135.\n",
      "  630.  90. 630.  49. 568. 202. 565. 124. 561.  73. 555.  29. 526. 216.\n",
      "  514. 141. 508.  93. 502.  52. 487. 242. 455. 186. 434. 147. 417. 109.]\n",
      " [550. 393. 609. 352. 651. 285. 681. 229. 712. 188. 593. 207. 605. 136.\n",
      "  608.  89. 607.  46. 548. 204. 546. 127. 541.  76. 534.  30. 507. 218.\n",
      "  494. 145. 487.  96. 480.  53. 467. 245. 433. 190. 413. 151. 397. 111.]]\n",
      "First 5 rows of dataset Y:\n",
      "['OPEN' 'OPEN' 'OPEN' 'OPEN' 'OPEN']\n"
     ]
    }
   ],
   "source": [
    "print(\"First 5 rows of dataset X:\")\n",
    "print(landmarks[:5])\n",
    "\n",
    "print(\"First 5 rows of dataset Y:\")\n",
    "print(labels[:5])"
   ],
   "metadata": {
    "collapsed": false,
    "ExecuteTime": {
     "end_time": "2024-03-13T01:04:17.735047300Z",
     "start_time": "2024-03-13T01:04:17.721019500Z"
    }
   },
   "id": "e99452824bf27cdd"
  },
  {
   "cell_type": "code",
   "execution_count": 10,
   "outputs": [
    {
     "name": "stdout",
     "output_type": "stream",
     "text": [
      "Label set unique values:  ['CLOSE', 'OPEN']\n"
     ]
    }
   ],
   "source": [
    "print(\"Label set unique values: \", list(np.unique(labels)))"
   ],
   "metadata": {
    "collapsed": false,
    "ExecuteTime": {
     "end_time": "2024-03-13T01:04:18.547360400Z",
     "start_time": "2024-03-13T01:04:18.540446300Z"
    }
   },
   "id": "bdf213caa8cd68ee"
  }
 ],
 "metadata": {
  "kernelspec": {
   "display_name": "Python 3",
   "language": "python",
   "name": "python3"
  },
  "language_info": {
   "codemirror_mode": {
    "name": "ipython",
    "version": 2
   },
   "file_extension": ".py",
   "mimetype": "text/x-python",
   "name": "python",
   "nbconvert_exporter": "python",
   "pygments_lexer": "ipython2",
   "version": "2.7.6"
  }
 },
 "nbformat": 4,
 "nbformat_minor": 5
}
